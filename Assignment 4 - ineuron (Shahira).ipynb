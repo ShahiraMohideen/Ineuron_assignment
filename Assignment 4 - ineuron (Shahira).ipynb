{
 "cells": [
  {
   "cell_type": "markdown",
   "metadata": {},
   "source": [
    "# Assignment 4"
   ]
  },
  {
   "cell_type": "code",
   "execution_count": null,
   "metadata": {},
   "outputs": [],
   "source": [
    "# 1.1 Write a Python Program(with class concepts) to find the area of the triangle using the below formula.\n",
    "# area = (s*(s-a)*(s-b)*(s-c)) ** 0.5\n",
    "# Function to take the length of the sides of triangle from user should be defined in the parent class and function \n",
    "# to calculate the area should be defined in subclass."
   ]
  },
  {
   "cell_type": "code",
   "execution_count": 45,
   "metadata": {},
   "outputs": [],
   "source": [
    "class triangle():\n",
    "    def __init__(self, side1, side2, side3):\n",
    "        self.a = side1\n",
    "        self.b = side2\n",
    "        self.c = side3\n",
    "    def __str__(self):\n",
    "        return f'Triangle of sides {self.a}, {self.b} and {self.c}'\n",
    "    \n",
    "class area_triangle(triangle):\n",
    "    def __init__(self, *args):\n",
    "        self.a = side1\n",
    "        self.b = side2\n",
    "        self.c = side3\n",
    "        self.s = (self.a+self.b+self.c)/2 # Half of perimeter\n",
    "        self.area = (self.s * (self.s-self.a) * (self.s - self.b) * (self.s - self.c))**0.5\n",
    "        \n",
    "    def __str__(self):\n",
    "        return \"Area of triangle is {:.2f}\".format(self.area) "
   ]
  },
  {
   "cell_type": "code",
   "execution_count": 50,
   "metadata": {},
   "outputs": [
    {
     "name": "stdout",
     "output_type": "stream",
     "text": [
      "Enter the length of side 1:3\n",
      "Enter the length of side 2:4\n",
      "Enter the length of side 3:5\n"
     ]
    }
   ],
   "source": [
    "side1 = int(input(\"Enter the length of side 1:\"))\n",
    "side2 = int(input(\"Enter the length of side 2:\"))\n",
    "side3 = int(input(\"Enter the length of side 3:\"))\n",
    "\n",
    "tri1 = triangle(side1,side2,side3)\n",
    "tri1_area = area_triangle(side1,side2,side3)"
   ]
  },
  {
   "cell_type": "code",
   "execution_count": 51,
   "metadata": {},
   "outputs": [
    {
     "name": "stdout",
     "output_type": "stream",
     "text": [
      "Enter the length of side 1:6\n",
      "Enter the length of side 2:8\n",
      "Enter the length of side 3:10\n"
     ]
    }
   ],
   "source": [
    "side1 = int(input(\"Enter the length of side 1:\"))\n",
    "side2 = int(input(\"Enter the length of side 2:\"))\n",
    "side3 = int(input(\"Enter the length of side 3:\"))\n",
    "\n",
    "tri2 = triangle(side1,side2,side3)\n",
    "tri2_area = area_triangle(side1,side2,side3)"
   ]
  },
  {
   "cell_type": "code",
   "execution_count": 52,
   "metadata": {},
   "outputs": [
    {
     "name": "stdout",
     "output_type": "stream",
     "text": [
      "Triangle of sides 3, 4 and 5\n",
      "Area of triangle is 6.00\n",
      "Triangle of sides 6, 8 and 10\n",
      "Area of triangle is 24.00\n"
     ]
    }
   ],
   "source": [
    "print(tri1)\n",
    "print(tri1_area)\n",
    "\n",
    "print(tri2)\n",
    "print(tri2_area)"
   ]
  },
  {
   "cell_type": "code",
   "execution_count": null,
   "metadata": {},
   "outputs": [],
   "source": [
    "# 1.2 Write a function filter_long_words() that takes a list of words and an integer n and returns the list of words \n",
    "# that are longer than n."
   ]
  },
  {
   "cell_type": "code",
   "execution_count": 57,
   "metadata": {},
   "outputs": [],
   "source": [
    "def filter_long_words(words, n):\n",
    "    r_lst = []\n",
    "    for i in words:\n",
    "        if len(i) > n:\n",
    "            r_lst.append(i)\n",
    "    return r_lst"
   ]
  },
  {
   "cell_type": "code",
   "execution_count": 58,
   "metadata": {},
   "outputs": [],
   "source": [
    "lst = [\"Qatar\", \"Canada\", \"United States\", \"Australia\", \"Argentina\", \"Bangladesh\"]\n",
    "n = 7"
   ]
  },
  {
   "cell_type": "code",
   "execution_count": 59,
   "metadata": {},
   "outputs": [
    {
     "data": {
      "text/plain": [
       "['United States', 'Australia', 'Argentina', 'Bangladesh']"
      ]
     },
     "execution_count": 59,
     "metadata": {},
     "output_type": "execute_result"
    }
   ],
   "source": [
    "filter_long_words(lst,n)"
   ]
  },
  {
   "cell_type": "code",
   "execution_count": 69,
   "metadata": {},
   "outputs": [],
   "source": [
    "# 2.1 Write a Python program using function concept that maps list of words into a list of integers representing the \n",
    "# lengths of the corresponding words.\n",
    "# Hint: If a list [ ab,cde,erty] is passed on to the python function output should come as [2,3,4] \n",
    "# Here 2,3 and 4 are the lengths of the words in the list."
   ]
  },
  {
   "cell_type": "code",
   "execution_count": 60,
   "metadata": {},
   "outputs": [],
   "source": [
    "def len_of_words(words):\n",
    "    lst = []\n",
    "    for word in words:\n",
    "        lst.append(len(word))\n",
    "    return lst"
   ]
  },
  {
   "cell_type": "code",
   "execution_count": 64,
   "metadata": {},
   "outputs": [
    {
     "data": {
      "text/plain": [
       "[5, 6, 13, 9, 9, 10]"
      ]
     },
     "execution_count": 64,
     "metadata": {},
     "output_type": "execute_result"
    }
   ],
   "source": [
    "lst = [\"Qatar\", \"Canada\", \"United States\", \"Australia\", \"Argentina\", \"Bangladesh\"]\n",
    "len_of_words(lst)"
   ]
  },
  {
   "cell_type": "code",
   "execution_count": 63,
   "metadata": {},
   "outputs": [
    {
     "data": {
      "text/plain": [
       "[2, 3, 4]"
      ]
     },
     "execution_count": 63,
     "metadata": {},
     "output_type": "execute_result"
    }
   ],
   "source": [
    "lst = ['ab','cbe','erty']\n",
    "len_of_words(lst)"
   ]
  },
  {
   "cell_type": "code",
   "execution_count": null,
   "metadata": {},
   "outputs": [],
   "source": [
    "# 2.2 Write a Python function which takes a character (i.e. a string of length 1) and returns True if it is a vowel, \n",
    "# False otherwise."
   ]
  },
  {
   "cell_type": "code",
   "execution_count": 65,
   "metadata": {},
   "outputs": [],
   "source": [
    "def is_vowel(alpha):\n",
    "    if(type(alpha) == str and len(alpha) == 1):\n",
    "        if alpha in ['a','e','i','o','u']:\n",
    "            return True\n",
    "        else:\n",
    "            return False\n",
    "    else:\n",
    "        return \"Error: Please input a single character (string of length one)\""
   ]
  },
  {
   "cell_type": "code",
   "execution_count": 66,
   "metadata": {},
   "outputs": [
    {
     "data": {
      "text/plain": [
       "True"
      ]
     },
     "execution_count": 66,
     "metadata": {},
     "output_type": "execute_result"
    }
   ],
   "source": [
    "is_vowel('a')"
   ]
  },
  {
   "cell_type": "code",
   "execution_count": 67,
   "metadata": {},
   "outputs": [
    {
     "data": {
      "text/plain": [
       "False"
      ]
     },
     "execution_count": 67,
     "metadata": {},
     "output_type": "execute_result"
    }
   ],
   "source": [
    "is_vowel('k')"
   ]
  },
  {
   "cell_type": "code",
   "execution_count": 68,
   "metadata": {},
   "outputs": [
    {
     "data": {
      "text/plain": [
       "'Error: Please input a single character (string of length one)'"
      ]
     },
     "execution_count": 68,
     "metadata": {},
     "output_type": "execute_result"
    }
   ],
   "source": [
    "is_vowel(['a','b','c'])"
   ]
  }
 ],
 "metadata": {
  "kernelspec": {
   "display_name": "Python 3",
   "language": "python",
   "name": "python3"
  },
  "language_info": {
   "codemirror_mode": {
    "name": "ipython",
    "version": 3
   },
   "file_extension": ".py",
   "mimetype": "text/x-python",
   "name": "python",
   "nbconvert_exporter": "python",
   "pygments_lexer": "ipython3",
   "version": "3.8.5"
  }
 },
 "nbformat": 4,
 "nbformat_minor": 4
}
